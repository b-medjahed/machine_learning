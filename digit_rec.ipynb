{
 "cells": [
  {
   "cell_type": "code",
   "execution_count": 2,
   "metadata": {},
   "outputs": [],
   "source": [
    "import numpy as np\n",
    "import pandas as pd\n",
    "import matplotlib.pyplot as plt\n",
    "import tensorflow as tf\n",
    "\n",
    "import keras as ks\n",
    "from keras.models import Sequential\n",
    "from keras.layers import Dense, Dropout, Conv2D, MaxPooling2D, Flatten\n",
    "from keras.callbacks import EarlyStopping, ModelCheckpoint\n",
    "import cv2\n",
    "from keras.datasets import mnist"
   ]
  },
  {
   "cell_type": "code",
   "execution_count": 3,
   "metadata": {},
   "outputs": [],
   "source": [
    "## Loading the data\n",
    "\n",
    "(x_train, y_train), (x_test, y_test)=mnist.load_data()"
   ]
  },
  {
   "cell_type": "code",
   "execution_count": 4,
   "metadata": {},
   "outputs": [
    {
     "name": "stdout",
     "output_type": "stream",
     "text": [
      "(60000, 28, 28)\n"
     ]
    }
   ],
   "source": [
    "print(x_train.shape)"
   ]
  },
  {
   "cell_type": "code",
   "execution_count": 5,
   "metadata": {},
   "outputs": [
    {
     "data": {
      "text/plain": [
       "array([[  0,   0,   0,   0,   0,   0,   0,   0,   0,   0,   0,   0,   0,\n",
       "          0,   0,   0,   0,   0,   0,   0,   0,   0,   0,   0,   0,   0,\n",
       "          0,   0],\n",
       "       [  0,   0,   0,   0,   0,   0,   0,   0,   0,   0,   0,   0,   0,\n",
       "          0,   0,   0,   0,   0,   0,   0,   0,   0,   0,   0,   0,   0,\n",
       "          0,   0],\n",
       "       [  0,   0,   0,   0,   0,   0,   0,   0,   0,   0,   0,   0,   0,\n",
       "          0,   0,   0,   0,   0,   0,   0,   0,   0,   0,   0,   0,   0,\n",
       "          0,   0],\n",
       "       [  0,   0,   0,   0,   0,   0,   0,   0,   0,   0,   0,   0,   0,\n",
       "          0,   0,   0,   0,   0,   0,   0,   0,   0,   0,   0,   0,   0,\n",
       "          0,   0],\n",
       "       [  0,   0,   0,   0,   0,   0,   0,   0,   0,   0,   0,   0,   0,\n",
       "          0,   0,  51, 159, 253, 159,  50,   0,   0,   0,   0,   0,   0,\n",
       "          0,   0],\n",
       "       [  0,   0,   0,   0,   0,   0,   0,   0,   0,   0,   0,   0,   0,\n",
       "          0,  48, 238, 252, 252, 252, 237,   0,   0,   0,   0,   0,   0,\n",
       "          0,   0],\n",
       "       [  0,   0,   0,   0,   0,   0,   0,   0,   0,   0,   0,   0,   0,\n",
       "         54, 227, 253, 252, 239, 233, 252,  57,   6,   0,   0,   0,   0,\n",
       "          0,   0],\n",
       "       [  0,   0,   0,   0,   0,   0,   0,   0,   0,   0,   0,  10,  60,\n",
       "        224, 252, 253, 252, 202,  84, 252, 253, 122,   0,   0,   0,   0,\n",
       "          0,   0],\n",
       "       [  0,   0,   0,   0,   0,   0,   0,   0,   0,   0,   0, 163, 252,\n",
       "        252, 252, 253, 252, 252,  96, 189, 253, 167,   0,   0,   0,   0,\n",
       "          0,   0],\n",
       "       [  0,   0,   0,   0,   0,   0,   0,   0,   0,   0,  51, 238, 253,\n",
       "        253, 190, 114, 253, 228,  47,  79, 255, 168,   0,   0,   0,   0,\n",
       "          0,   0],\n",
       "       [  0,   0,   0,   0,   0,   0,   0,   0,   0,  48, 238, 252, 252,\n",
       "        179,  12,  75, 121,  21,   0,   0, 253, 243,  50,   0,   0,   0,\n",
       "          0,   0],\n",
       "       [  0,   0,   0,   0,   0,   0,   0,   0,  38, 165, 253, 233, 208,\n",
       "         84,   0,   0,   0,   0,   0,   0, 253, 252, 165,   0,   0,   0,\n",
       "          0,   0],\n",
       "       [  0,   0,   0,   0,   0,   0,   0,   7, 178, 252, 240,  71,  19,\n",
       "         28,   0,   0,   0,   0,   0,   0, 253, 252, 195,   0,   0,   0,\n",
       "          0,   0],\n",
       "       [  0,   0,   0,   0,   0,   0,   0,  57, 252, 252,  63,   0,   0,\n",
       "          0,   0,   0,   0,   0,   0,   0, 253, 252, 195,   0,   0,   0,\n",
       "          0,   0],\n",
       "       [  0,   0,   0,   0,   0,   0,   0, 198, 253, 190,   0,   0,   0,\n",
       "          0,   0,   0,   0,   0,   0,   0, 255, 253, 196,   0,   0,   0,\n",
       "          0,   0],\n",
       "       [  0,   0,   0,   0,   0,   0,  76, 246, 252, 112,   0,   0,   0,\n",
       "          0,   0,   0,   0,   0,   0,   0, 253, 252, 148,   0,   0,   0,\n",
       "          0,   0],\n",
       "       [  0,   0,   0,   0,   0,   0,  85, 252, 230,  25,   0,   0,   0,\n",
       "          0,   0,   0,   0,   0,   7, 135, 253, 186,  12,   0,   0,   0,\n",
       "          0,   0],\n",
       "       [  0,   0,   0,   0,   0,   0,  85, 252, 223,   0,   0,   0,   0,\n",
       "          0,   0,   0,   0,   7, 131, 252, 225,  71,   0,   0,   0,   0,\n",
       "          0,   0],\n",
       "       [  0,   0,   0,   0,   0,   0,  85, 252, 145,   0,   0,   0,   0,\n",
       "          0,   0,   0,  48, 165, 252, 173,   0,   0,   0,   0,   0,   0,\n",
       "          0,   0],\n",
       "       [  0,   0,   0,   0,   0,   0,  86, 253, 225,   0,   0,   0,   0,\n",
       "          0,   0, 114, 238, 253, 162,   0,   0,   0,   0,   0,   0,   0,\n",
       "          0,   0],\n",
       "       [  0,   0,   0,   0,   0,   0,  85, 252, 249, 146,  48,  29,  85,\n",
       "        178, 225, 253, 223, 167,  56,   0,   0,   0,   0,   0,   0,   0,\n",
       "          0,   0],\n",
       "       [  0,   0,   0,   0,   0,   0,  85, 252, 252, 252, 229, 215, 252,\n",
       "        252, 252, 196, 130,   0,   0,   0,   0,   0,   0,   0,   0,   0,\n",
       "          0,   0],\n",
       "       [  0,   0,   0,   0,   0,   0,  28, 199, 252, 252, 253, 252, 252,\n",
       "        233, 145,   0,   0,   0,   0,   0,   0,   0,   0,   0,   0,   0,\n",
       "          0,   0],\n",
       "       [  0,   0,   0,   0,   0,   0,   0,  25, 128, 252, 253, 252, 141,\n",
       "         37,   0,   0,   0,   0,   0,   0,   0,   0,   0,   0,   0,   0,\n",
       "          0,   0],\n",
       "       [  0,   0,   0,   0,   0,   0,   0,   0,   0,   0,   0,   0,   0,\n",
       "          0,   0,   0,   0,   0,   0,   0,   0,   0,   0,   0,   0,   0,\n",
       "          0,   0],\n",
       "       [  0,   0,   0,   0,   0,   0,   0,   0,   0,   0,   0,   0,   0,\n",
       "          0,   0,   0,   0,   0,   0,   0,   0,   0,   0,   0,   0,   0,\n",
       "          0,   0],\n",
       "       [  0,   0,   0,   0,   0,   0,   0,   0,   0,   0,   0,   0,   0,\n",
       "          0,   0,   0,   0,   0,   0,   0,   0,   0,   0,   0,   0,   0,\n",
       "          0,   0],\n",
       "       [  0,   0,   0,   0,   0,   0,   0,   0,   0,   0,   0,   0,   0,\n",
       "          0,   0,   0,   0,   0,   0,   0,   0,   0,   0,   0,   0,   0,\n",
       "          0,   0]], dtype=uint8)"
      ]
     },
     "execution_count": 5,
     "metadata": {},
     "output_type": "execute_result"
    }
   ],
   "source": [
    "x_train[1]"
   ]
  },
  {
   "cell_type": "code",
   "execution_count": 6,
   "metadata": {},
   "outputs": [],
   "source": [
    "#x_train=x_train.reshape(60000,28,28,1)"
   ]
  },
  {
   "cell_type": "code",
   "execution_count": 7,
   "metadata": {},
   "outputs": [],
   "source": [
    "#x_train.shape"
   ]
  },
  {
   "cell_type": "code",
   "execution_count": 8,
   "metadata": {},
   "outputs": [
    {
     "name": "stdout",
     "output_type": "stream",
     "text": [
      "uint8\n"
     ]
    }
   ],
   "source": [
    "## Data Type\n",
    "\n",
    "print(x_train.dtype)"
   ]
  },
  {
   "cell_type": "code",
   "execution_count": 9,
   "metadata": {},
   "outputs": [],
   "source": [
    "## Conversion\n",
    "\n",
    "x_train = x_train.astype(np.float16)\n",
    "x_test  = x_test.astype(np.float16)"
   ]
  },
  {
   "cell_type": "code",
   "execution_count": 10,
   "metadata": {},
   "outputs": [
    {
     "name": "stdout",
     "output_type": "stream",
     "text": [
      "(60000, 28, 28)\n"
     ]
    }
   ],
   "source": [
    "print(x_train.shape)"
   ]
  },
  {
   "cell_type": "code",
   "execution_count": 11,
   "metadata": {},
   "outputs": [
    {
     "name": "stdout",
     "output_type": "stream",
     "text": [
      "3\n"
     ]
    }
   ],
   "source": [
    "print(x_train.ndim)"
   ]
  },
  {
   "cell_type": "code",
   "execution_count": 12,
   "metadata": {},
   "outputs": [
    {
     "name": "stdout",
     "output_type": "stream",
     "text": [
      "(60000,)\n"
     ]
    }
   ],
   "source": [
    "print(y_train.shape)"
   ]
  },
  {
   "cell_type": "code",
   "execution_count": 13,
   "metadata": {},
   "outputs": [
    {
     "name": "stdout",
     "output_type": "stream",
     "text": [
      "(10000, 28, 28)\n"
     ]
    }
   ],
   "source": [
    "print(x_test.shape)"
   ]
  },
  {
   "cell_type": "code",
   "execution_count": 14,
   "metadata": {},
   "outputs": [
    {
     "name": "stdout",
     "output_type": "stream",
     "text": [
      "(10000,)\n"
     ]
    }
   ],
   "source": [
    "print(y_test.shape)"
   ]
  },
  {
   "cell_type": "code",
   "execution_count": 15,
   "metadata": {},
   "outputs": [],
   "source": [
    "## We notice that a given pixel brightness is in the scale 0-255 (grayscale).\n",
    "## Therefore, we will need to re-scale x_train and y_train (put in scale 0-1)."
   ]
  },
  {
   "cell_type": "code",
   "execution_count": 16,
   "metadata": {},
   "outputs": [],
   "source": [
    "## Normalise x_train and x_test\n",
    "\n",
    "x_train=x_train/255\n",
    "x_test=x_test/255"
   ]
  },
  {
   "cell_type": "code",
   "execution_count": 17,
   "metadata": {},
   "outputs": [
    {
     "data": {
      "text/plain": [
       "array([0.    , 0.    , 0.    , 0.    , 0.    , 0.    , 0.    , 0.    ,\n",
       "       0.    , 0.    , 0.    , 0.    , 0.    , 0.    , 0.1882, 0.933 ,\n",
       "       0.9883, 0.9883, 0.9883, 0.929 , 0.    , 0.    , 0.    , 0.    ,\n",
       "       0.    , 0.    , 0.    , 0.    ], dtype=float16)"
      ]
     },
     "execution_count": 17,
     "metadata": {},
     "output_type": "execute_result"
    }
   ],
   "source": [
    "x_train[1,5]"
   ]
  },
  {
   "cell_type": "code",
   "execution_count": 18,
   "metadata": {},
   "outputs": [
    {
     "data": {
      "image/png": "[encoded data removed]",
      "text/plain": [
       "<Figure size 1000x700 with 6 Axes>"
      ]
     },
     "metadata": {},
     "output_type": "display_data"
    }
   ],
   "source": [
    "## Visualise a Dataset sample\n",
    "plt.figure(figsize=(10,7))\n",
    "\n",
    "for i in range (6):\n",
    "\n",
    "    \n",
    "    plt.subplot(2,3,i+1)\n",
    "   \n",
    "    plt.imshow(x_train[i], cmap='gray')\n",
    "  \n",
    "    plt.title(str(y_train[i]))\n"
   ]
  },
  {
   "cell_type": "code",
   "execution_count": 19,
   "metadata": {},
   "outputs": [
    {
     "data": {
      "text/plain": [
       "(array([0, 1, 2, 3, 4, 5, 6, 7, 8, 9], dtype=uint8),\n",
       " array([5923, 6742, 5958, 6131, 5842, 5421, 5918, 6265, 5851, 5949],\n",
       "       dtype=int64))"
      ]
     },
     "execution_count": 19,
     "metadata": {},
     "output_type": "execute_result"
    }
   ],
   "source": [
    "np.unique(y_train, return_counts=True)"
   ]
  },
  {
   "cell_type": "code",
   "execution_count": 20,
   "metadata": {},
   "outputs": [],
   "source": [
    "## Reshape x_train and x_test\n",
    "\n",
    "x_train=x_train.reshape(60000,28,28,1)\n",
    "x_test=x_test.reshape(10000,28,28,1)"
   ]
  },
  {
   "cell_type": "code",
   "execution_count": 21,
   "metadata": {},
   "outputs": [
    {
     "name": "stdout",
     "output_type": "stream",
     "text": [
      "x_train shape is : (60000, 28, 28, 1)\n",
      "x_train dimension is: 4\n"
     ]
    }
   ],
   "source": [
    "print('x_train shape is :', x_train.shape)\n",
    "print('x_train dimension is:', x_train.ndim)"
   ]
  },
  {
   "cell_type": "code",
   "execution_count": 22,
   "metadata": {},
   "outputs": [
    {
     "data": {
      "text/plain": [
       "array([0.], dtype=float16)"
      ]
     },
     "execution_count": 22,
     "metadata": {},
     "output_type": "execute_result"
    }
   ],
   "source": [
    "x_train[1,27,27]"
   ]
  },
  {
   "cell_type": "code",
   "execution_count": 24,
   "metadata": {},
   "outputs": [
    {
     "name": "stdout",
     "output_type": "stream",
     "text": [
      "Model: \"sequential\"\n",
      "_________________________________________________________________\n",
      " Layer (type)                Output Shape              Param #   \n",
      "=================================================================\n",
      " conv2d (Conv2D)             (None, 28, 28, 16)        160       \n",
      "                                                                 \n",
      "=================================================================\n",
      "Total params: 160\n",
      "Trainable params: 160\n",
      "Non-trainable params: 0\n",
      "_________________________________________________________________\n",
      "Model: \"sequential\"\n",
      "_________________________________________________________________\n",
      " Layer (type)                Output Shape              Param #   \n",
      "=================================================================\n",
      " conv2d (Conv2D)             (None, 28, 28, 16)        160       \n",
      "                                                                 \n",
      " max_pooling2d (MaxPooling2D  (None, 14, 14, 16)       0         \n",
      " )                                                               \n",
      "                                                                 \n",
      " dropout (Dropout)           (None, 14, 14, 16)        0         \n",
      "                                                                 \n",
      " conv2d_1 (Conv2D)           (None, 12, 12, 32)        4640      \n",
      "                                                                 \n",
      " max_pooling2d_1 (MaxPooling  (None, 6, 6, 32)         0         \n",
      " 2D)                                                             \n",
      "                                                                 \n",
      " dropout_1 (Dropout)         (None, 6, 6, 32)          0         \n",
      "                                                                 \n",
      " flatten (Flatten)           (None, 1152)              0         \n",
      "                                                                 \n",
      "=================================================================\n",
      "Total params: 4,800\n",
      "Trainable params: 4,800\n",
      "Non-trainable params: 0\n",
      "_________________________________________________________________\n",
      "WARNING:tensorflow:EarlyStopping mode <built-in function min> is unknown, fallback to auto mode.\n"
     ]
    }
   ],
   "source": [
    "## Define the CNN Model\n",
    "model=Sequential()\n",
    "#input_shape=(1,28,28,)\n",
    "\n",
    "##First layer\n",
    "model.add(Conv2D(16,kernel_size=(3,3), activation='relu', padding='same', input_shape=(28,28,1)))\n",
    "\n",
    "model.summary()\n",
    "##Layers\n",
    "model.add(MaxPooling2D(2,2))\n",
    "\n",
    "model.add(Dropout(0.2))\n",
    "model.add(Conv2D(32,kernel_size=(3,3), activation='relu'))\n",
    "\n",
    "model.add(MaxPooling2D(2,2))\n",
    "model.add(Dropout(0.2))\n",
    "\n",
    "model.add(Flatten())\n",
    "model.summary()\n",
    "model.add(Dense(32, activation='relu'))\n",
    "##Output layer\n",
    "model.add(Dense(10, activation='softmax'))\n",
    "\n",
    "\n",
    "## compiling the ANN\n",
    "\n",
    "model.compile(optimizer='adam', loss='sparse_categorical_crossentropy', metrics=['accuracy'])\n",
    "\n",
    "es=EarlyStopping( monitor='val_loss',patience=200,verbose=1,mode=min)\n",
    "mc=ModelCheckpoint('best_m.h5',monitor='val_accuracy',mode='max',verbose=1,save_best_only=True)\n"
   ]
  },
  {
   "cell_type": "code",
   "execution_count": 25,
   "metadata": {},
   "outputs": [
    {
     "name": "stdout",
     "output_type": "stream",
     "text": [
      "Epoch 1/20\n",
      "750/750 [==============================] - ETA: 0s - loss: 0.3091 - accuracy: 0.9037\n",
      "Epoch 1: val_accuracy improved from -inf to 0.97325, saving model to best_m.h5\n",
      "750/750 [==============================] - 18s 22ms/step - loss: 0.3091 - accuracy: 0.9037 - val_loss: 0.0932 - val_accuracy: 0.9732\n",
      "Epoch 2/20\n",
      "750/750 [==============================] - ETA: 0s - loss: 0.1067 - accuracy: 0.9675\n",
      "Epoch 2: val_accuracy improved from 0.97325 to 0.97742, saving model to best_m.h5\n",
      "750/750 [==============================] - 16s 21ms/step - loss: 0.1067 - accuracy: 0.9675 - val_loss: 0.0693 - val_accuracy: 0.9774\n",
      "Epoch 3/20\n",
      "749/750 [============================>.] - ETA: 0s - loss: 0.0815 - accuracy: 0.9749\n",
      "Epoch 3: val_accuracy improved from 0.97742 to 0.98500, saving model to best_m.h5\n",
      "750/750 [==============================] - 16s 21ms/step - loss: 0.0815 - accuracy: 0.9749 - val_loss: 0.0538 - val_accuracy: 0.9850\n",
      "Epoch 4/20\n",
      "748/750 [============================>.] - ETA: 0s - loss: 0.0672 - accuracy: 0.9790\n",
      "Epoch 4: val_accuracy improved from 0.98500 to 0.98558, saving model to best_m.h5\n",
      "750/750 [==============================] - 18s 24ms/step - loss: 0.0672 - accuracy: 0.9791 - val_loss: 0.0538 - val_accuracy: 0.9856\n",
      "Epoch 5/20\n",
      "750/750 [==============================] - ETA: 0s - loss: 0.0574 - accuracy: 0.9816\n",
      "Epoch 5: val_accuracy improved from 0.98558 to 0.98683, saving model to best_m.h5\n",
      "750/750 [==============================] - 18s 23ms/step - loss: 0.0574 - accuracy: 0.9816 - val_loss: 0.0442 - val_accuracy: 0.9868\n",
      "Epoch 6/20\n",
      "748/750 [============================>.] - ETA: 0s - loss: 0.0502 - accuracy: 0.9838\n",
      "Epoch 6: val_accuracy improved from 0.98683 to 0.98767, saving model to best_m.h5\n",
      "750/750 [==============================] - 18s 24ms/step - loss: 0.0502 - accuracy: 0.9837 - val_loss: 0.0443 - val_accuracy: 0.9877\n",
      "Epoch 7/20\n",
      "749/750 [============================>.] - ETA: 0s - loss: 0.0447 - accuracy: 0.9858\n",
      "Epoch 7: val_accuracy did not improve from 0.98767\n",
      "750/750 [==============================] - 16s 22ms/step - loss: 0.0448 - accuracy: 0.9858 - val_loss: 0.0421 - val_accuracy: 0.9863\n",
      "Epoch 8/20\n",
      "750/750 [==============================] - ETA: 0s - loss: 0.0408 - accuracy: 0.9866\n",
      "Epoch 8: val_accuracy improved from 0.98767 to 0.98775, saving model to best_m.h5\n",
      "750/750 [==============================] - 16s 21ms/step - loss: 0.0408 - accuracy: 0.9866 - val_loss: 0.0414 - val_accuracy: 0.9877\n",
      "Epoch 9/20\n",
      "750/750 [==============================] - ETA: 0s - loss: 0.0366 - accuracy: 0.9879\n",
      "Epoch 9: val_accuracy improved from 0.98775 to 0.98842, saving model to best_m.h5\n",
      "750/750 [==============================] - 17s 22ms/step - loss: 0.0366 - accuracy: 0.9879 - val_loss: 0.0388 - val_accuracy: 0.9884\n",
      "Epoch 10/20\n",
      "748/750 [============================>.] - ETA: 0s - loss: 0.0345 - accuracy: 0.9888\n",
      "Epoch 10: val_accuracy improved from 0.98842 to 0.99025, saving model to best_m.h5\n",
      "750/750 [==============================] - 19s 25ms/step - loss: 0.0346 - accuracy: 0.9888 - val_loss: 0.0372 - val_accuracy: 0.9902\n",
      "Epoch 11/20\n",
      "749/750 [============================>.] - ETA: 0s - loss: 0.0325 - accuracy: 0.9893\n",
      "Epoch 11: val_accuracy did not improve from 0.99025\n",
      "750/750 [==============================] - 19s 25ms/step - loss: 0.0326 - accuracy: 0.9893 - val_loss: 0.0369 - val_accuracy: 0.9901\n",
      "Epoch 12/20\n",
      "750/750 [==============================] - ETA: 0s - loss: 0.0279 - accuracy: 0.9904\n",
      "Epoch 12: val_accuracy did not improve from 0.99025\n",
      "750/750 [==============================] - 19s 25ms/step - loss: 0.0279 - accuracy: 0.9904 - val_loss: 0.0392 - val_accuracy: 0.9894\n",
      "Epoch 13/20\n",
      "748/750 [============================>.] - ETA: 0s - loss: 0.0294 - accuracy: 0.9906\n",
      "Epoch 13: val_accuracy improved from 0.99025 to 0.99108, saving model to best_m.h5\n",
      "750/750 [==============================] - 17s 23ms/step - loss: 0.0293 - accuracy: 0.9906 - val_loss: 0.0334 - val_accuracy: 0.9911\n",
      "Epoch 14/20\n",
      "748/750 [============================>.] - ETA: 0s - loss: 0.0262 - accuracy: 0.9908\n",
      "Epoch 14: val_accuracy did not improve from 0.99108\n",
      "750/750 [==============================] - 17s 23ms/step - loss: 0.0263 - accuracy: 0.9908 - val_loss: 0.0348 - val_accuracy: 0.9908\n",
      "Epoch 15/20\n",
      "748/750 [============================>.] - ETA: 0s - loss: 0.0263 - accuracy: 0.9913\n",
      "Epoch 15: val_accuracy did not improve from 0.99108\n",
      "750/750 [==============================] - 18s 24ms/step - loss: 0.0263 - accuracy: 0.9913 - val_loss: 0.0370 - val_accuracy: 0.9898\n",
      "Epoch 16/20\n",
      "748/750 [============================>.] - ETA: 0s - loss: 0.0238 - accuracy: 0.9917\n",
      "Epoch 16: val_accuracy did not improve from 0.99108\n",
      "750/750 [==============================] - 19s 25ms/step - loss: 0.0237 - accuracy: 0.9918 - val_loss: 0.0368 - val_accuracy: 0.9888\n",
      "Epoch 17/20\n",
      "750/750 [==============================] - ETA: 0s - loss: 0.0226 - accuracy: 0.9928\n",
      "Epoch 17: val_accuracy did not improve from 0.99108\n",
      "750/750 [==============================] - 18s 24ms/step - loss: 0.0226 - accuracy: 0.9928 - val_loss: 0.0359 - val_accuracy: 0.9903\n",
      "Epoch 18/20\n",
      "749/750 [============================>.] - ETA: 0s - loss: 0.0214 - accuracy: 0.9931\n",
      "Epoch 18: val_accuracy did not improve from 0.99108\n",
      "750/750 [==============================] - 17s 22ms/step - loss: 0.0214 - accuracy: 0.9931 - val_loss: 0.0359 - val_accuracy: 0.9891\n",
      "Epoch 19/20\n",
      "750/750 [==============================] - ETA: 0s - loss: 0.0207 - accuracy: 0.9929\n",
      "Epoch 19: val_accuracy did not improve from 0.99108\n",
      "750/750 [==============================] - 17s 22ms/step - loss: 0.0207 - accuracy: 0.9929 - val_loss: 0.0349 - val_accuracy: 0.9899\n",
      "Epoch 20/20\n",
      "748/750 [============================>.] - ETA: 0s - loss: 0.0204 - accuracy: 0.9931\n",
      "Epoch 20: val_accuracy did not improve from 0.99108\n",
      "750/750 [==============================] - 17s 22ms/step - loss: 0.0204 - accuracy: 0.9931 - val_loss: 0.0376 - val_accuracy: 0.9904\n"
     ]
    }
   ],
   "source": [
    "## train the model   \n",
    "\n",
    "history= model.fit(x_train, y_train, batch_size=64, epochs=20, validation_split=0.2,callbacks=[es,mc])"
   ]
  },
  {
   "cell_type": "code",
   "execution_count": 26,
   "metadata": {},
   "outputs": [
    {
     "name": "stdout",
     "output_type": "stream",
     "text": [
      "313/313 [==============================] - 1s 4ms/step\n"
     ]
    },
    {
     "data": {
      "text/plain": [
       "array([[3.08460126e-13, 7.28695316e-13, 2.97456442e-08, ...,\n",
       "        9.99996662e-01, 5.89539795e-08, 2.60090019e-06],\n",
       "       [3.17448268e-09, 4.78627527e-10, 9.99999762e-01, ...,\n",
       "        1.03978394e-07, 3.95948205e-12, 3.72486025e-14],\n",
       "       [1.65989249e-07, 9.99854684e-01, 3.39006448e-07, ...,\n",
       "        2.50320045e-05, 8.79097388e-06, 6.64661144e-08],\n",
       "       ...,\n",
       "       [2.12685374e-20, 5.40029957e-12, 2.15502673e-15, ...,\n",
       "        3.64456798e-11, 7.31439243e-10, 1.26657502e-08],\n",
       "       [1.20943802e-11, 1.99348092e-16, 1.87495388e-16, ...,\n",
       "        3.98410715e-19, 2.47121847e-04, 9.14971224e-12],\n",
       "       [3.87717236e-08, 5.62415012e-15, 3.70888237e-10, ...,\n",
       "        2.51565675e-17, 1.39493569e-10, 7.44224560e-13]], dtype=float32)"
      ]
     },
     "execution_count": 26,
     "metadata": {},
     "output_type": "execute_result"
    }
   ],
   "source": [
    "## make prediction\n",
    "\n",
    "y_pred_cnn= model.predict(x_test)\n",
    "#y_pred_cnn=pd.DataFrame(y_pred_cnn)\n",
    "\n",
    "y_pred_cnn"
   ]
  },
  {
   "cell_type": "code",
   "execution_count": 27,
   "metadata": {},
   "outputs": [
    {
     "data": {
      "text/plain": [
       "(10000, 10)"
      ]
     },
     "execution_count": 27,
     "metadata": {},
     "output_type": "execute_result"
    }
   ],
   "source": [
    "y_pred_cnn.shape\n"
   ]
  },
  {
   "cell_type": "code",
   "execution_count": 28,
   "metadata": {},
   "outputs": [],
   "source": [
    "for i in range(len(y_pred_cnn)):\n",
    "      y_pred= np.argwhere(y_pred_cnn==np.amax(y_pred_cnn,1,keepdims=True))"
   ]
  },
  {
   "cell_type": "code",
   "execution_count": 29,
   "metadata": {},
   "outputs": [
    {
     "name": "stdout",
     "output_type": "stream",
     "text": [
      "[[   0    7]\n",
      " [   1    2]\n",
      " [   2    1]\n",
      " ...\n",
      " [9997    4]\n",
      " [9998    5]\n",
      " [9999    6]]\n"
     ]
    }
   ],
   "source": [
    "print(y_pred)"
   ]
  },
  {
   "cell_type": "code",
   "execution_count": 30,
   "metadata": {},
   "outputs": [
    {
     "name": "stdout",
     "output_type": "stream",
     "text": [
      "(10000,)\n",
      "(10000, 2)\n"
     ]
    }
   ],
   "source": [
    "## y_test is a one dimensional array\n",
    "print(y_test.shape)\n",
    "print(y_pred.shape)"
   ]
  },
  {
   "cell_type": "code",
   "execution_count": 31,
   "metadata": {},
   "outputs": [
    {
     "data": {
      "text/plain": [
       "(10000,)"
      ]
     },
     "execution_count": 31,
     "metadata": {},
     "output_type": "execute_result"
    }
   ],
   "source": [
    "\n",
    "#Reshape y_pred\n",
    "\n",
    "y_prediction=y_pred[:,1]\n",
    "y_prediction.shape\n"
   ]
  },
  {
   "cell_type": "code",
   "execution_count": 32,
   "metadata": {},
   "outputs": [
    {
     "data": {
      "text/html": [
       "<div>\n",
       "<style scoped>\n",
       "    .dataframe tbody tr th:only-of-type {\n",
       "        vertical-align: middle;\n",
       "    }\n",
       "\n",
       "    .dataframe tbody tr th {\n",
       "        vertical-align: top;\n",
       "    }\n",
       "\n",
       "    .dataframe thead th {\n",
       "        text-align: right;\n",
       "    }\n",
       "</style>\n",
       "<table border=\"1\" class=\"dataframe\">\n",
       "  <thead>\n",
       "    <tr style=\"text-align: right;\">\n",
       "      <th></th>\n",
       "      <th>Actual</th>\n",
       "      <th>Predicted</th>\n",
       "    </tr>\n",
       "  </thead>\n",
       "  <tbody>\n",
       "    <tr>\n",
       "      <th>0</th>\n",
       "      <td>7</td>\n",
       "      <td>7</td>\n",
       "    </tr>\n",
       "    <tr>\n",
       "      <th>1</th>\n",
       "      <td>2</td>\n",
       "      <td>2</td>\n",
       "    </tr>\n",
       "    <tr>\n",
       "      <th>2</th>\n",
       "      <td>1</td>\n",
       "      <td>1</td>\n",
       "    </tr>\n",
       "    <tr>\n",
       "      <th>3</th>\n",
       "      <td>0</td>\n",
       "      <td>0</td>\n",
       "    </tr>\n",
       "    <tr>\n",
       "      <th>4</th>\n",
       "      <td>4</td>\n",
       "      <td>4</td>\n",
       "    </tr>\n",
       "    <tr>\n",
       "      <th>...</th>\n",
       "      <td>...</td>\n",
       "      <td>...</td>\n",
       "    </tr>\n",
       "    <tr>\n",
       "      <th>9995</th>\n",
       "      <td>2</td>\n",
       "      <td>2</td>\n",
       "    </tr>\n",
       "    <tr>\n",
       "      <th>9996</th>\n",
       "      <td>3</td>\n",
       "      <td>3</td>\n",
       "    </tr>\n",
       "    <tr>\n",
       "      <th>9997</th>\n",
       "      <td>4</td>\n",
       "      <td>4</td>\n",
       "    </tr>\n",
       "    <tr>\n",
       "      <th>9998</th>\n",
       "      <td>5</td>\n",
       "      <td>5</td>\n",
       "    </tr>\n",
       "    <tr>\n",
       "      <th>9999</th>\n",
       "      <td>6</td>\n",
       "      <td>6</td>\n",
       "    </tr>\n",
       "  </tbody>\n",
       "</table>\n",
       "<p>10000 rows × 2 columns</p>\n",
       "</div>"
      ],
      "text/plain": [
       "      Actual  Predicted\n",
       "0          7          7\n",
       "1          2          2\n",
       "2          1          1\n",
       "3          0          0\n",
       "4          4          4\n",
       "...      ...        ...\n",
       "9995       2          2\n",
       "9996       3          3\n",
       "9997       4          4\n",
       "9998       5          5\n",
       "9999       6          6\n",
       "\n",
       "[10000 rows x 2 columns]"
      ]
     },
     "execution_count": 32,
     "metadata": {},
     "output_type": "execute_result"
    }
   ],
   "source": [
    "pd.DataFrame({'Actual': y_test,'Predicted': y_prediction})"
   ]
  },
  {
   "cell_type": "code",
   "execution_count": 33,
   "metadata": {},
   "outputs": [],
   "source": [
    "from sklearn.metrics import accuracy_score, confusion_matrix, classification_report, roc_curve, roc_auc_score"
   ]
  },
  {
   "cell_type": "code",
   "execution_count": 34,
   "metadata": {},
   "outputs": [
    {
     "name": "stdout",
     "output_type": "stream",
     "text": [
      "              precision    recall  f1-score   support\n",
      "\n",
      "           0       0.99      1.00      0.99       980\n",
      "           1       1.00      0.99      0.99      1135\n",
      "           2       0.99      0.99      0.99      1032\n",
      "           3       0.99      0.99      0.99      1010\n",
      "           4       1.00      0.98      0.99       982\n",
      "           5       0.99      0.98      0.99       892\n",
      "           6       0.99      0.99      0.99       958\n",
      "           7       0.99      0.99      0.99      1028\n",
      "           8       0.99      0.99      0.99       974\n",
      "           9       0.98      1.00      0.99      1009\n",
      "\n",
      "    accuracy                           0.99     10000\n",
      "   macro avg       0.99      0.99      0.99     10000\n",
      "weighted avg       0.99      0.99      0.99     10000\n",
      "\n"
     ]
    }
   ],
   "source": [
    "## Classification report\n",
    "\n",
    "print(classification_report(y_test, y_prediction))"
   ]
  },
  {
   "cell_type": "code",
   "execution_count": 35,
   "metadata": {},
   "outputs": [
    {
     "data": {
      "text/plain": [
       "array([[ 977,    0,    0,    0,    0,    0,    1,    1,    1,    0],\n",
       "       [   0, 1121,    1,    3,    0,    1,    5,    3,    1,    0],\n",
       "       [   1,    0, 1025,    0,    0,    0,    0,    5,    1,    0],\n",
       "       [   0,    0,    1, 1002,    0,    3,    0,    1,    1,    2],\n",
       "       [   0,    0,    0,    0,  967,    0,    3,    1,    2,    9],\n",
       "       [   2,    0,    0,    5,    0,  878,    4,    0,    0,    3],\n",
       "       [   3,    1,    0,    0,    1,    2,  951,    0,    0,    0],\n",
       "       [   0,    0,    6,    1,    0,    0,    0, 1016,    1,    4],\n",
       "       [   2,    0,    3,    1,    0,    1,    0,    0,  963,    4],\n",
       "       [   0,    0,    0,    0,    2,    1,    0,    1,    0, 1005]],\n",
       "      dtype=int64)"
      ]
     },
     "execution_count": 35,
     "metadata": {},
     "output_type": "execute_result"
    }
   ],
   "source": [
    "## Confusion matrix\n",
    "cm=confusion_matrix(y_test, y_prediction)\n",
    "cm"
   ]
  },
  {
   "cell_type": "code",
   "execution_count": 36,
   "metadata": {},
   "outputs": [
    {
     "data": {
      "image/png": "[encoded data removed]",
      "text/plain": [
       "<Figure size 500x500 with 1 Axes>"
      ]
     },
     "metadata": {},
     "output_type": "display_data"
    }
   ],
   "source": [
    "## plot the confusion matrix\n",
    "from mlxtend.plotting import plot_confusion_matrix\n",
    "fig, ax= plot_confusion_matrix(conf_mat=cm, figsize=(5,5), cmap=plt.cm.Greens)\n",
    "plt.xlabel('Predicted', fontsize=10)\n",
    "plt.ylabel('Actuals', fontsize=10)\n",
    "plt.title('Confusion Matrix')\n",
    "plt.show()"
   ]
  },
  {
   "cell_type": "code",
   "execution_count": 37,
   "metadata": {},
   "outputs": [
    {
     "data": {
      "text/plain": [
       "(10000,)"
      ]
     },
     "execution_count": 37,
     "metadata": {},
     "output_type": "execute_result"
    }
   ],
   "source": [
    "y_test.shape\n",
    "y_prediction.shape"
   ]
  },
  {
   "cell_type": "code",
   "execution_count": 39,
   "metadata": {},
   "outputs": [],
   "source": [
    "# Binarise y_test and y_prediction\n",
    "from sklearn.preprocessing import label_binarize\n",
    "labels = [0, 1, 2, 3, 4,5,6,7,8,9]\n",
    "\n",
    "y_test = label_binarize(y_test, classes=labels)\n",
    "y_prediction = label_binarize(y_prediction, classes=labels)\n"
   ]
  },
  {
   "cell_type": "code",
   "execution_count": 40,
   "metadata": {},
   "outputs": [
    {
     "name": "stdout",
     "output_type": "stream",
     "text": [
      "AUC: 0.994707\n"
     ]
    }
   ],
   "source": [
    "auc = roc_auc_score(y_test, y_prediction,average='macro',multi_class='ovo')\n",
    "print('AUC: %f' %auc)"
   ]
  },
  {
   "cell_type": "code",
   "execution_count": 81,
   "metadata": {},
   "outputs": [
    {
     "data": {
      "image/png": "[encoded data removed]",
      "text/plain": [
       "<Figure size 640x480 with 1 Axes>"
      ]
     },
     "metadata": {},
     "output_type": "display_data"
    }
   ],
   "source": [
    "fpr_list = dict()\n",
    "tpr_list = dict()\n",
    "threshold_list = dict()\n",
    "roc_auc_list = dict()\n",
    "colours=['red','blue','green','yellow','pink','orange','purple','aqua','cian','olive']\n",
    "\n",
    "for i in range(10): \n",
    "    fpr_list[i], tpr_list[i], threshold_list[i] = roc_curve(y_test[:, i], y_prediction[:, i])\n",
    "    colours=['red','blue','green','yellow','pink','orange','purple','aqua','cyan','olive']\n",
    "    \n",
    "    plt.plot(fpr_list[i],tpr_list[i], color=colours[i],label=i )\n",
    "plt.plot([0, 1], [0, 1], color='darkblue', linestyle='--')  \n",
    "plt.xlabel('False Positive Rate') \n",
    "plt.ylabel('True Positive Rate')\n",
    "plt.title('Receiver Operating Characteristic Multi-Class (ROC) Curve')\n",
    "plt.legend()\n",
    "plt.show()\n",
    "\n",
    "    "
   ]
  },
  {
   "cell_type": "code",
   "execution_count": 44,
   "metadata": {},
   "outputs": [
    {
     "name": "stderr",
     "output_type": "stream",
     "text": [
      "WARNING:absl:Found untraced functions such as _jit_compiled_convolution_op, _jit_compiled_convolution_op, _update_step_xla while saving (showing 3 of 3). These functions will not be directly callable after loading.\n"
     ]
    },
    {
     "name": "stdout",
     "output_type": "stream",
     "text": [
      "INFO:tensorflow:Assets written to: model_cnn\\assets\n"
     ]
    },
    {
     "name": "stderr",
     "output_type": "stream",
     "text": [
      "INFO:tensorflow:Assets written to: model_cnn\\assets\n"
     ]
    }
   ],
   "source": [
    "## save the CNN model\n",
    "model.save('model_cnn')"
   ]
  }
 ],
 "metadata": {
  "kernelspec": {
   "display_name": "Python 3",
   "language": "python",
   "name": "python3"
  },
  "language_info": {
   "codemirror_mode": {
    "name": "ipython",
    "version": 3
   },
   "file_extension": ".py",
   "mimetype": "text/x-python",
   "name": "python",
   "nbconvert_exporter": "python",
   "pygments_lexer": "ipython3",
   "version": "3.11.1"
  },
  "orig_nbformat": 4
 },
 "nbformat": 4,
 "nbformat_minor": 2
}
